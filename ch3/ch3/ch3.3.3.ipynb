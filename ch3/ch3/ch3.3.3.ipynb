{
 "cells": [
  {
   "cell_type": "code",
   "execution_count": 4,
   "id": "d86a6614",
   "metadata": {},
   "outputs": [],
   "source": [
    "from numpy import *"
   ]
  },
  {
   "cell_type": "code",
   "execution_count": 5,
   "id": "ca6726b3",
   "metadata": {},
   "outputs": [],
   "source": [
    "# 训练朴素贝叶斯模型（仅针对属性值为离散型情况）\n",
    "#简单贝叶斯分类器\n",
    "class BayesClassifier():\n",
    "    def __init__(self):\n",
    "        pass\n",
    "    \n",
    "    def __del__(self):\n",
    "        self.countDic.clear()\n",
    "    \n",
    "    # 分离数据集的属性和标签，并分别保存下来\n",
    "    def getFeatures(self, dataElem, Label):\n",
    "        self.Label = Label  # 数据集的标签名称\n",
    "        self.FLists = [ cl for cl in dataElem] # 数据集的属性名称\n",
    "        self.FLists.remove(self.Label)\n",
    "        return self.FLists\n",
    "    \n",
    "    # 分离数据：数据集和标签\n",
    "    def splitData(self, dataSets):\n",
    "        labels = [ cl[self.Label] for cl in dataSets ] # 标签数据集\n",
    "        features = [] # 属性数据集\n",
    "        for i in range(len(dataSets)):\n",
    "            feature = {}\n",
    "            for fa in dataSets[i]: # 处理每一个数据\n",
    "                if fa != self.Label: # 判断是标签，还是属性\n",
    "                    feature[fa] = dataSets[i][fa]\n",
    "            # print(feature)\n",
    "            features.append(feature)\n",
    "        return features, labels\n",
    "    \n",
    "    # 训练简单贝叶斯分类器\n",
    "    def train(self,features,labels):\n",
    "        self.sampleNum = len(features)   # 样本数目\n",
    "        self.countDic = {}               # 统计各个条件概率的出现次数\n",
    "        self.labelSet = set([])          # 集合存放类标，如：Y=1 or Y=0\n",
    "        for i in range(len(labels)):  # 统计类标不同值出现的次数\n",
    "            TempStr = 'Y=' + str(labels[i])\n",
    "            self.labelSet.add(str(labels[i]))\n",
    "            if TempStr in self.countDic:\n",
    "                self.countDic[TempStr] += 1\n",
    "            else:\n",
    "                self.countDic[TempStr] = 1\n",
    "        for i in range(len(features)): #统计各个条件概率组合出现的次数\n",
    "            for fl in self.FLists:\n",
    "                TempStr = 'F' + str(fl) + '=' + str(features[i][fl]) + '|Y=' + str(labels[i])\n",
    "                if TempStr in self.countDic:\n",
    "                    self.countDic[TempStr] += 1\n",
    "                else:\n",
    "                    self.countDic[TempStr] = 1\n",
    "        for key in self.countDic.keys():  # 遍历次数统计字典计算概率\n",
    "            if key.find('|') != -1:  # 计算条件概率P(Fi=a|Y=b)\n",
    "                targetStr = key[key.find('|') + 1:]  # 类标字符串:  Y=1 or Y=-0\n",
    "                self.countDic[key] /= self.countDic[targetStr]  # 计算条件概率P(Fi=a|Y=b)=Count(Fi=a,Y=b)/Count(Y=b)\n",
    "\n",
    "        for label in self.labelSet:  # 计算类标概率P(Y=b)\n",
    "            TempStr = \"Y=\" + str(label)\n",
    "            self.countDic[TempStr] /= self.sampleNum\n",
    "\n",
    "    def classify(self, feature):  # 使用训练后的贝叶斯分类器分类新样本\n",
    "        #   计算后验概率P(Y=b|Sample=feature)\n",
    "        probabilityMap = {}\n",
    "        for label in self.labelSet:\n",
    "            TempProbability = 1.0\n",
    "            for fl in self.FLists:\n",
    "                TempStr = 'F' + str(fl) + '=' + str(feature[fl]) + '|Y=' + label\n",
    "                if TempStr not in self.countDic:  # 遇到新的特征值，导致该概率P(Fi=a|Y=b)为0，将它校正为非0值（1/Count(Y=b))\n",
    "                    TempProbability *= (1.0 / self.countDic['Y=' + label]) / self.sampleNum\n",
    "                else:\n",
    "                    TempProbability *= self.countDic[TempStr]\n",
    "            TempProbability *= self.countDic['Y=' + label]\n",
    "            probabilityMap[label] = TempProbability\n",
    "        maxProbability = 0.0\n",
    "        for label in self.labelSet:  # 选取使后验概率P(Y=b|Sample=feature)最大的类标作为目标类标\n",
    "            if probabilityMap[label] > maxProbability:\n",
    "                maxProbability = probabilityMap[label]\n",
    "                targetLabel = label\n",
    "        probabilityMap.clear()\n",
    "        return targetLabel\n"
   ]
  },
  {
   "cell_type": "code",
   "execution_count": 6,
   "id": "9147cb2c",
   "metadata": {},
   "outputs": [],
   "source": [
    "# data\n",
    "data = [\n",
    "    {\"Outlook\": \"Sunny\", \"Temp\": \"Hot\", \"Humidity\": \"High\",\"Windy\": \"Weak\", \"class\": \"No\"},\n",
    "    {\"Outlook\": \"Sunny\", \"Temp\": \"Hot\", \"Humidity\": \"High\",\"Windy\": \"Strong\", \"class\": \"No\"},\n",
    "    {\"Outlook\": \"Overcast\", \"Temp\": \"Hot\", \"Humidity\": \"High\",\"Windy\": \"Weak\", \"class\": \"Yes\"},\n",
    "    {\"Outlook\": \"Rain\", \"Temp\": \"Mild\", \"Humidity\": \"High\",\"Windy\": \"Weak\", \"class\": \"Yes\"},\n",
    "    {\"Outlook\":\"Rain\",\"Temp\":\"Cool\",\"Humidity\":\"Normal\",\"Windy\":\"Weak\",\"class\":\"Yes\"},\n",
    "    {\"Outlook\":\"Rain\",\"Temp\":\"Cool\",\"Humidity\":\"Normal\",\"Windy\":\"Strong\",\"class\":\"No\"},\n",
    "    {\"Outlook\":\"Overcast\",\"Temp\":\"Cool\",\"Humidity\":\"Normal\",\"Windy\":\"Strong\",\"class\":\"Yes\"},\n",
    "    {\"Outlook\":\"Sunny\",\"Temp\":\"Mild\",\"Humidity\":\"High\",\"Windy\":\"Weak\",\"class\":\"No\"},\n",
    "    {\"Outlook\":\"Sunny\",\"Temp\":\"Cool\",\"Humidity\":\"Normal\",\"Windy\":\"Weak\",\"class\":\"Yes\"},\n",
    "    {\"Outlook\":\"Rain\",\"Temp\":\"Mild\",\"Humidity\":\"Normal\",\"Windy\":\"Weak\",\"class\":\"Yes\"},\n",
    "    {\"Outlook\":\"Sunny\",\"Temp\":\"Mild\",\"Humidity\":\"Normal\",\"Windy\":\"Strong\",\"class\":\"Yes\"},\n",
    "    {\"Outlook\":\"Overcast\",\"Temp\":\"Mild\",\"Humidity\":\"High\",\"Windy\":\"Strong\",\"class\":\"Yes\"},\n",
    "    {\"Outlook\":\"Overcast\",\"Temp\":\"Hot\",\"Humidity\":\"Normal\",\"Windy\":\"Weak\",\"class\":\"Yes\"},\n",
    "    {\"Outlook\":\"Rain\",\"Temp\":\"Mild\",\"Humidity\":\"High\",\"Windy\":\"Strong\",\"class\":\"No\" }]"
   ]
  },
  {
   "cell_type": "code",
   "execution_count": 8,
   "id": "da044832",
   "metadata": {},
   "outputs": [],
   "source": [
    "#calculate\n",
    "NBC = BayesClassifier()\n",
    "NBC.getFeatures(data[0], \"class\")\n",
    "features, labels = NBC.splitData(data)\n",
    "NBC.train(features, labels)"
   ]
  },
  {
   "cell_type": "code",
   "execution_count": 9,
   "id": "60163cc2",
   "metadata": {},
   "outputs": [
    {
     "name": "stdout",
     "output_type": "stream",
     "text": [
      "No\n"
     ]
    }
   ],
   "source": [
    "print(NBC.classify({\"Outlook\":\"Sunny\",\"Temp\":\"Cool\",\"Humidity\":\"High\", \"Windy\":\"Strong\"}))"
   ]
  },
  {
   "cell_type": "code",
   "execution_count": 10,
   "id": "f3046323",
   "metadata": {},
   "outputs": [
    {
     "name": "stdout",
     "output_type": "stream",
     "text": [
      "Yes\n"
     ]
    }
   ],
   "source": [
    "print(NBC.classify({\"Outlook\":\"Overcast\",\"Temp\":\"Cool\",\"Humidity\":\"Normal\", \"Windy\":\"Strong\"}))"
   ]
  },
  {
   "cell_type": "code",
   "execution_count": null,
   "id": "8f4bdf2d",
   "metadata": {},
   "outputs": [],
   "source": []
  }
 ],
 "metadata": {
  "kernelspec": {
   "display_name": "Python 3 (ipykernel)",
   "language": "python",
   "name": "python3"
  },
  "language_info": {
   "codemirror_mode": {
    "name": "ipython",
    "version": 3
   },
   "file_extension": ".py",
   "mimetype": "text/x-python",
   "name": "python",
   "nbconvert_exporter": "python",
   "pygments_lexer": "ipython3",
   "version": "3.9.12"
  }
 },
 "nbformat": 4,
 "nbformat_minor": 5
}
