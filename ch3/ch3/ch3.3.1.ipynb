{
 "cells": [
  {
   "cell_type": "code",
   "execution_count": 1,
   "id": "66ffa095",
   "metadata": {},
   "outputs": [],
   "source": [
    "import numpy as np\n",
    "from sklearn.naive_bayes import BernoulliNB\n",
    "from sklearn.model_selection import train_test_split"
   ]
  },
  {
   "cell_type": "code",
   "execution_count": 2,
   "id": "7dfbe3e5",
   "metadata": {},
   "outputs": [],
   "source": [
    "X = np.array([[0, 2, 0, 0], \n",
    "              [0, 2, 0, 1], \n",
    "              [1, 2, 0, 0], \n",
    "              [2, 1, 0, 0], \n",
    "              [2, 0, 1, 0], \n",
    "              [2, 0, 1, 1], \n",
    "              [1, 0, 1, 1],\n",
    "              [0, 1, 0, 0],\n",
    "              [0, 0, 1, 0],\n",
    "              [2, 1, 1, 0], \n",
    "              [0, 1, 1, 1], \n",
    "              [1, 1, 0, 1], \n",
    "              [1, 2, 1, 0], \n",
    "              [2, 1, 0, 1]])"
   ]
  },
  {
   "cell_type": "code",
   "execution_count": 3,
   "id": "03aeca27",
   "metadata": {},
   "outputs": [],
   "source": [
    "y = np.array( [0, 0, 1, 1, 1, 0, 1, 0, 1, 1, 1, 1, 1, 0])"
   ]
  },
  {
   "cell_type": "code",
   "execution_count": 4,
   "id": "555d3e18",
   "metadata": {},
   "outputs": [
    {
     "name": "stdout",
     "output_type": "stream",
     "text": [
      "模型得分：0.600\n"
     ]
    }
   ],
   "source": [
    "X_train,X_test,y_train,y_test=train_test_split(X,y,test_size=0.3,random_state=8)\n",
    "clf = BernoulliNB()\n",
    "clf.fit(X_train,y_train)\n",
    "print('模型得分：{:.3f}'.format(clf.score(X_test, y_test)))"
   ]
  },
  {
   "cell_type": "code",
   "execution_count": 5,
   "id": "0448734b",
   "metadata": {},
   "outputs": [
    {
     "name": "stdout",
     "output_type": "stream",
     "text": [
      "购买电脑\n"
     ]
    }
   ],
   "source": [
    "Next_Day = [[0, 1, 1, 0]]\n",
    "pre = clf.predict(Next_Day)\n",
    "if pre == [1]:\n",
    "    print(\"购买电脑\")\n",
    "else:\n",
    "    print(\"不买电脑\")"
   ]
  },
  {
   "cell_type": "code",
   "execution_count": 6,
   "id": "f3372e47",
   "metadata": {},
   "outputs": [
    {
     "name": "stdout",
     "output_type": "stream",
     "text": [
      "不买电脑\n"
     ]
    }
   ],
   "source": [
    "Another_day = [[1, 1, 0, 1]]\n",
    "pre2 = clf.predict(Another_day)\n",
    "if pre2 == [1]:\n",
    "    print(\"购买电脑\")\n",
    "else:\n",
    "    print(\"不买电脑\")"
   ]
  },
  {
   "cell_type": "code",
   "execution_count": 7,
   "id": "cdb0e2bb",
   "metadata": {},
   "outputs": [
    {
     "data": {
      "text/plain": [
       "array([[0.32169893, 0.67830107]])"
      ]
     },
     "execution_count": 7,
     "metadata": {},
     "output_type": "execute_result"
    }
   ],
   "source": [
    "clf.predict_proba(Next_Day)"
   ]
  },
  {
   "cell_type": "code",
   "execution_count": 8,
   "id": "49c50a51",
   "metadata": {},
   "outputs": [
    {
     "data": {
      "text/plain": [
       "array([[0.82586637, 0.17413363]])"
      ]
     },
     "execution_count": 8,
     "metadata": {},
     "output_type": "execute_result"
    }
   ],
   "source": [
    "clf.predict_proba(Another_day)"
   ]
  },
  {
   "cell_type": "code",
   "execution_count": 9,
   "id": "a03c6081",
   "metadata": {},
   "outputs": [],
   "source": [
    "#使用生成的数据\n",
    "from sklearn.datasets import make_blobs"
   ]
  },
  {
   "cell_type": "code",
   "execution_count": 10,
   "id": "f100c9a0",
   "metadata": {},
   "outputs": [
    {
     "name": "stdout",
     "output_type": "stream",
     "text": [
      "模型得分：0.648\n"
     ]
    }
   ],
   "source": [
    "X, y = make_blobs(n_samples=500, centers=2,random_state=8)\n",
    "X_train,X_test,y_train,y_test=train_test_split(X,y,random_state=8)\n",
    "nb = BernoulliNB()\n",
    "nb.fit(X_train,y_train)\n",
    "print('模型得分：{:.3f}'.format(nb.score(X_test, y_test)))"
   ]
  },
  {
   "cell_type": "code",
   "execution_count": 11,
   "id": "5409f325",
   "metadata": {},
   "outputs": [
    {
     "name": "stdout",
     "output_type": "stream",
     "text": [
      "Accuracy of GaussianNB in iris data test: 0.9466666666666667\n"
     ]
    }
   ],
   "source": [
    "from sklearn.datasets import load_iris\n",
    "from sklearn.model_selection import train_test_split\n",
    "from sklearn.naive_bayes import GaussianNB\n",
    "from sklearn.metrics import accuracy_score\n",
    "X, y = load_iris(return_X_y=True)\n",
    "X_train, X_test, y_train, y_test = train_test_split(X, y, test_size=0.5, random_state=0)\n",
    "gnb = GaussianNB()\n",
    "y_pred = gnb.fit(X_train, y_train).predict(X_test)\n",
    "print(\"Accuracy of GaussianNB in iris data test:\", \n",
    "      accuracy_score(y_test, y_pred))"
   ]
  },
  {
   "cell_type": "code",
   "execution_count": null,
   "id": "df09e6e1",
   "metadata": {},
   "outputs": [],
   "source": []
  }
 ],
 "metadata": {
  "kernelspec": {
   "display_name": "Python 3 (ipykernel)",
   "language": "python",
   "name": "python3"
  },
  "language_info": {
   "codemirror_mode": {
    "name": "ipython",
    "version": 3
   },
   "file_extension": ".py",
   "mimetype": "text/x-python",
   "name": "python",
   "nbconvert_exporter": "python",
   "pygments_lexer": "ipython3",
   "version": "3.9.12"
  }
 },
 "nbformat": 4,
 "nbformat_minor": 5
}
